{
  "nbformat": 4,
  "nbformat_minor": 0,
  "metadata": {
    "colab": {
      "name": "apartment_price_LR.ipynb",
      "provenance": []
    },
    "kernelspec": {
      "name": "python3",
      "display_name": "Python 3"
    },
    "language_info": {
      "name": "python"
    }
  },
  "cells": [
    {
      "cell_type": "code",
      "execution_count": 1,
      "metadata": {
        "id": "nadMiPte6wwh"
      },
      "outputs": [],
      "source": [
        "import pandas as pd\n",
        "import numpy as np\n",
        "import matplotlib.pyplot as plt\n"
      ]
    },
    {
      "cell_type": "code",
      "source": [
        "dataset = pd.read_csv('apartment_prices.csv')\n",
        "X = dataset.iloc[:, :-1].values\n",
        "y = dataset.iloc[:, -1].values"
      ],
      "metadata": {
        "id": "JoWQq9Sy7Ssk"
      },
      "execution_count": 2,
      "outputs": []
    },
    {
      "cell_type": "code",
      "source": [
        "print(X)\n",
        "print(y)"
      ],
      "metadata": {
        "colab": {
          "base_uri": "https://localhost:8080/"
        },
        "id": "en0rWCcw7qK0",
        "outputId": "3402b206-609e-465d-b44c-2334b868cff4"
      },
      "execution_count": 3,
      "outputs": [
        {
          "output_type": "stream",
          "name": "stdout",
          "text": [
            "[[ 70]\n",
            " [ 72]\n",
            " [ 91]\n",
            " [ 58]\n",
            " [ 49]\n",
            " [ 50]\n",
            " [ 48]\n",
            " [ 33]\n",
            " [ 61]\n",
            " [ 51]\n",
            " [ 78]\n",
            " [ 70]\n",
            " [ 35]\n",
            " [ 81]\n",
            " [ 70]\n",
            " [ 47]\n",
            " [ 55]\n",
            " [ 70]\n",
            " [ 89]\n",
            " [ 68]\n",
            " [ 42]\n",
            " [ 93]\n",
            " [ 54]\n",
            " [ 52]\n",
            " [ 72]\n",
            " [ 62]\n",
            " [ 65]\n",
            " [ 98]\n",
            " [ 39]\n",
            " [ 50]\n",
            " [ 62]\n",
            " [ 45]\n",
            " [ 11]\n",
            " [ 60]\n",
            " [ 60]\n",
            " [ 74]\n",
            " [ 64]\n",
            " [ 56]\n",
            " [ 71]\n",
            " [ 40]\n",
            " [ 76]\n",
            " [ 88]\n",
            " [ 55]\n",
            " [ 60]\n",
            " [ 79]\n",
            " [109]\n",
            " [ 51]\n",
            " [ 48]\n",
            " [ 25]\n",
            " [ 88]]\n",
            "[351  39 473 282   3 286 228 181 308 289 414 358 165 397 352 239 322 376\n",
            " 499 383 229 424 256 256 363 328 331 465 273 215 287 207   7 328 282 322\n",
            " 305 317 406 225 407 443 294 277 393 576 254 263 101 426]\n"
          ]
        }
      ]
    },
    {
      "cell_type": "code",
      "source": [
        "from sklearn.model_selection import train_test_split\n",
        "X_train, X_test, y_train, y_test = train_test_split(X, y, test_size = 0.2, random_state = 1)"
      ],
      "metadata": {
        "id": "-sGvZ0Dg7yOE"
      },
      "execution_count": 4,
      "outputs": []
    },
    {
      "cell_type": "code",
      "source": [
        " from sklearn.linear_model import LinearRegression\n",
        " regressor = LinearRegression()\n",
        " regressor.fit(X_train,y_train)\n",
        " "
      ],
      "metadata": {
        "colab": {
          "base_uri": "https://localhost:8080/"
        },
        "id": "1ppZYF7B8LZV",
        "outputId": "af7d7a54-dd7b-4f54-f6ba-39bbdf65b5f7"
      },
      "execution_count": 5,
      "outputs": [
        {
          "output_type": "execute_result",
          "data": {
            "text/plain": [
              "LinearRegression()"
            ]
          },
          "metadata": {},
          "execution_count": 5
        }
      ]
    },
    {
      "cell_type": "code",
      "source": [
        "regressor.predict(X_test)"
      ],
      "metadata": {
        "colab": {
          "base_uri": "https://localhost:8080/"
        },
        "id": "PzJKdFcL819_",
        "outputId": "db4edefe-8eec-4113-e10a-5a5026302d84"
      },
      "execution_count": 6,
      "outputs": [
        {
          "output_type": "execute_result",
          "data": {
            "text/plain": [
              "array([484.66560734, 364.77012712, 374.76141714, 349.78319209,\n",
              "       449.69609228, 284.83980697, 119.98352166, 244.87464689,\n",
              "       249.8702919 , 219.89642185])"
            ]
          },
          "metadata": {},
          "execution_count": 6
        }
      ]
    },
    {
      "cell_type": "code",
      "source": [
        "plt.scatter(X_train, y_train, color = 'red')\n",
        "plt.plot(X_train, regressor.predict(X_train), color = 'blue')\n",
        "plt.title('Apartment price (Training set)')\n",
        "plt.xlabel('Sq meter')\n",
        "plt.ylabel('price')\n",
        "plt.show()"
      ],
      "metadata": {
        "colab": {
          "base_uri": "https://localhost:8080/",
          "height": 295
        },
        "id": "uC1EkpGy9Mnz",
        "outputId": "faafdea8-5151-4945-8a63-d27b4180c78b"
      },
      "execution_count": 7,
      "outputs": [
        {
          "output_type": "display_data",
          "data": {
            "image/png": "[encoded data removed]",
            "text/plain": [
              "<Figure size 432x288 with 1 Axes>"
            ]
          },
          "metadata": {
            "needs_background": "light"
          }
        }
      ]
    },
    {
      "cell_type": "code",
      "source": [
        "plt.scatter(X_test, y_test, color = 'red')\n",
        "plt.plot(X_train, regressor.predict(X_train), color = 'blue')\n",
        "plt.title('Apartment price (Training set)')\n",
        "plt.xlabel('Sq meter')\n",
        "plt.ylabel('price')\n",
        "plt.show()"
      ],
      "metadata": {
        "colab": {
          "base_uri": "https://localhost:8080/",
          "height": 295
        },
        "id": "sc3rBDdV9WfM",
        "outputId": "fd04ac9a-15d7-4622-cabe-838f95a8ca21"
      },
      "execution_count": 8,
      "outputs": [
        {
          "output_type": "display_data",
          "data": {
            "image/png": "[encoded data removed]",
            "text/plain": [
              "<Figure size 432x288 with 1 Axes>"
            ]
          },
          "metadata": {
            "needs_background": "light"
          }
        }
      ]
    },
    {
      "cell_type": "code",
      "source": [
        "regressor.score(X_test,y_test)"
      ],
      "metadata": {
        "colab": {
          "base_uri": "https://localhost:8080/"
        },
        "id": "0hZCsH8r-Pic",
        "outputId": "f37f34e1-c558-4fd6-eb04-0eb6851a730d"
      },
      "execution_count": 9,
      "outputs": [
        {
          "output_type": "execute_result",
          "data": {
            "text/plain": [
              "0.9384371875132236"
            ]
          },
          "metadata": {},
          "execution_count": 9
        }
      ]
    }
  ]
}